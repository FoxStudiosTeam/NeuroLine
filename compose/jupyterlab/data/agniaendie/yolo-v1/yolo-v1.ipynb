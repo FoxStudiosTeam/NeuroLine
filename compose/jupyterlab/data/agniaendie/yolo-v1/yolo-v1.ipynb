{
 "cells": [
  {
   "cell_type": "code",
   "execution_count": 1,
   "id": "b8e75e91-d324-4eac-9de2-05c3e87f1e8e",
   "metadata": {},
   "outputs": [
    {
     "name": "stderr",
     "output_type": "stream",
     "text": [
      "2024-09-28 11:47:11.569437: E external/local_xla/xla/stream_executor/cuda/cuda_fft.cc:485] Unable to register cuFFT factory: Attempting to register factory for plugin cuFFT when one has already been registered\n",
      "2024-09-28 11:47:11.584712: E external/local_xla/xla/stream_executor/cuda/cuda_dnn.cc:8454] Unable to register cuDNN factory: Attempting to register factory for plugin cuDNN when one has already been registered\n",
      "2024-09-28 11:47:11.588003: E external/local_xla/xla/stream_executor/cuda/cuda_blas.cc:1452] Unable to register cuBLAS factory: Attempting to register factory for plugin cuBLAS when one has already been registered\n",
      "2024-09-28 11:47:11.597902: I tensorflow/core/platform/cpu_feature_guard.cc:210] This TensorFlow binary is optimized to use available CPU instructions in performance-critical operations.\n",
      "To enable the following instructions: AVX2 FMA, in other operations, rebuild TensorFlow with the appropriate compiler flags.\n",
      "WARNING: All log messages before absl::InitializeLog() is called are written to STDERR\n",
      "I0000 00:00:1727524033.048281      21 cuda_executor.cc:1001] could not open file to read NUMA node: /sys/bus/pci/devices/0000:2b:00.0/numa_node\n",
      "Your kernel may have been built without NUMA support.\n",
      "I0000 00:00:1727524033.052016      21 cuda_executor.cc:1001] could not open file to read NUMA node: /sys/bus/pci/devices/0000:2b:00.0/numa_node\n",
      "Your kernel may have been built without NUMA support.\n",
      "I0000 00:00:1727524033.052046      21 cuda_executor.cc:1001] could not open file to read NUMA node: /sys/bus/pci/devices/0000:2b:00.0/numa_node\n",
      "Your kernel may have been built without NUMA support.\n",
      "I0000 00:00:1727524033.052989      21 cuda_executor.cc:1001] could not open file to read NUMA node: /sys/bus/pci/devices/0000:2b:00.0/numa_node\n",
      "Your kernel may have been built without NUMA support.\n",
      "I0000 00:00:1727524033.053017      21 cuda_executor.cc:1001] could not open file to read NUMA node: /sys/bus/pci/devices/0000:2b:00.0/numa_node\n",
      "Your kernel may have been built without NUMA support.\n",
      "I0000 00:00:1727524033.053032      21 cuda_executor.cc:1001] could not open file to read NUMA node: /sys/bus/pci/devices/0000:2b:00.0/numa_node\n",
      "Your kernel may have been built without NUMA support.\n",
      "I0000 00:00:1727524033.216729      21 cuda_executor.cc:1001] could not open file to read NUMA node: /sys/bus/pci/devices/0000:2b:00.0/numa_node\n",
      "Your kernel may have been built without NUMA support.\n",
      "I0000 00:00:1727524033.216777      21 cuda_executor.cc:1001] could not open file to read NUMA node: /sys/bus/pci/devices/0000:2b:00.0/numa_node\n",
      "Your kernel may have been built without NUMA support.\n",
      "2024-09-28 11:47:13.216786: I tensorflow/core/common_runtime/gpu/gpu_device.cc:2112] Could not identify NUMA node of platform GPU id 0, defaulting to 0.  Your kernel may not have been built with NUMA support.\n",
      "I0000 00:00:1727524033.216818      21 cuda_executor.cc:1001] could not open file to read NUMA node: /sys/bus/pci/devices/0000:2b:00.0/numa_node\n",
      "Your kernel may have been built without NUMA support.\n",
      "2024-09-28 11:47:13.216835: I tensorflow/core/common_runtime/gpu/gpu_device.cc:2021] Created device /job:localhost/replica:0/task:0/device:GPU:0 with 9711 MB memory:  -> device: 0, name: NVIDIA GeForce RTX 3060, pci bus id: 0000:2b:00.0, compute capability: 8.6\n"
     ]
    },
    {
     "name": "stdout",
     "output_type": "stream",
     "text": [
      "tf.Tensor(-144.05713, shape=(), dtype=float32)\n"
     ]
    }
   ],
   "source": [
    "import tensorflow as tf;\n",
    "\n",
    "print(tf.reduce_sum(tf.random.normal([1000, 1000])))"
   ]
  },
  {
   "cell_type": "code",
   "id": "c46d9485-7006-4a3d-a0fb-269ee3be5a1a",
   "metadata": {
    "ExecuteTime": {
     "end_time": "2024-10-05T10:23:46.750208Z",
     "start_time": "2024-10-05T10:23:46.553287Z"
    }
   },
   "source": [
    "import tensorflow as tf;\n",
    "\n",
    "print(tf.config.list_physical_devices())"
   ],
   "outputs": [
    {
     "ename": "ModuleNotFoundError",
     "evalue": "No module named 'tensorflow'",
     "output_type": "error",
     "traceback": [
      "\u001B[1;31m---------------------------------------------------------------------------\u001B[0m",
      "\u001B[1;31mModuleNotFoundError\u001B[0m                       Traceback (most recent call last)",
      "Cell \u001B[1;32mIn[1], line 1\u001B[0m\n\u001B[1;32m----> 1\u001B[0m \u001B[38;5;28;01mimport\u001B[39;00m \u001B[38;5;21;01mtensorflow\u001B[39;00m \u001B[38;5;28;01mas\u001B[39;00m \u001B[38;5;21;01mtf\u001B[39;00m;\n\u001B[0;32m      3\u001B[0m \u001B[38;5;28mprint\u001B[39m(tf\u001B[38;5;241m.\u001B[39mconfig\u001B[38;5;241m.\u001B[39mlist_physical_devices())\n",
      "\u001B[1;31mModuleNotFoundError\u001B[0m: No module named 'tensorflow'"
     ]
    }
   ],
   "execution_count": 1
  },
  {
   "cell_type": "code",
   "execution_count": 1,
   "id": "aa8ef21a-fc84-4bb8-a2fd-ada09ca9e1a2",
   "metadata": {},
   "outputs": [
    {
     "name": "stdout",
     "output_type": "stream",
     "text": [
      "Creating new Ultralytics Settings v0.0.6 file ✅ \n",
      "View Ultralytics Settings with 'yolo settings' or at '/root/.config/Ultralytics/settings.json'\n",
      "Update Settings with 'yolo settings key=value', i.e. 'yolo settings runs_dir=path/to/dir'. For help see https://docs.ultralytics.com/quickstart/#ultralytics-settings.\n"
     ]
    }
   ],
   "source": [
    "from ultralytics import YOLO\n",
    "\n",
    "model = YOLO(\"yolov8n.pt\")\n",
    "\n",
    "# Train the model\n",
    "train_results = model.train(\n",
    "    data=\"coco8.yaml\",  # path to dataset YAML\n",
    "    epochs=100,  # number of training epochs\n",
    "    imgsz=640,  # training image size\n",
    "    device=\"gpu\",  # device to run on, i.e. device=0 or device=0,1,2,3 or device=cpu\n",
    ")\n",
    "\n",
    "# Evaluate model performance on the validation set\n",
    "metrics = model.val()\n",
    "\n",
    "# Perform object detection on an image\n",
    "results = model(\"path/to/image.jpg\")\n",
    "results[0].show()\n",
    "\n",
    "# Export the model to ONNX format\n",
    "path = model.export(format=\"onnx\")  # return path to exported model\n",
    "\n"
   ]
  },
  {
   "cell_type": "code",
   "id": "a13f7a57-15d9-4d78-95a1-b476df41b3d3",
   "metadata": {
    "ExecuteTime": {
     "end_time": "2024-09-28T20:37:34.564439Z",
     "start_time": "2024-09-28T20:37:34.388628Z"
    }
   },
   "source": [
    "from os.path import isfile, join\n",
    "import os\n",
    "\n",
    "#Prepare TrainingData & Validation Files Lists\n",
    "\n",
    "directoryPathFemale = \"./dataset/archive/Female\"\n",
    "directoryPathMale = \"./dataset/archive/Male\"\n",
    "\n",
    "onlyMaleFiles = [f for f in os.listdir(directoryPathMale) if isfile(join(directoryPathMale, f))]\n",
    "onlyFemaleFiles = [f for f in os.listdir(directoryPathFemale) if isfile(join(directoryPathFemale, f))]\n",
    "\n",
    "\n",
    "def prepare_list(listIn):\n",
    "    counter = 0\n",
    "    validationFilesNames = []\n",
    "    trainingFilesNames = []\n",
    "\n",
    "    for file in listIn:\n",
    "        if counter == 8:\n",
    "            validationFilesNames.append(file)\n",
    "            counter = 0\n",
    "        else:\n",
    "            trainingFilesNames.append(file)\n",
    "            counter += 1\n",
    "\n",
    "    return validationFilesNames, trainingFilesNames\n",
    "\n",
    "\n",
    "validationFilesNamesFemales, trainingFilesNamesFemales = prepare_list(onlyFemaleFiles)\n",
    "\n",
    "validationFilesNamesMales, trainingFilesMalesNames = prepare_list(onlyMaleFiles)\n",
    "\n",
    "print(len(validationFilesNamesFemales), len(trainingFilesNamesFemales))\n",
    "print(len(validationFilesNamesMales), len(trainingFilesMalesNames))"
   ],
   "outputs": [
    {
     "name": "stdout",
     "output_type": "stream",
     "text": [
      "428 3432\n",
      "334 2679\n"
     ]
    }
   ],
   "execution_count": 10
  },
  {
   "metadata": {
    "ExecuteTime": {
     "end_time": "2024-09-28T21:07:41.603945Z",
     "start_time": "2024-09-28T21:07:39.571104Z"
    }
   },
   "cell_type": "code",
   "source": [
    "import os\n",
    "\n",
    "maleDir = \"./dataset/archive/Male\"\n",
    "femaleDir = \"./dataset/archive/Female\"\n",
    "\n",
    "\n",
    "def gen_file_dirs():\n",
    "    os.mkdir(maleDir + \"Training\")\n",
    "    os.mkdir(maleDir + \"Control\")\n",
    "    os.mkdir(femaleDir + \"Training\")\n",
    "    os.mkdir(femaleDir + \"Control\")\n",
    "\n",
    "\n",
    "def replaceFilesByDirLists(listTraining, listControl, isMale):\n",
    "    for file in listTraining:\n",
    "        if isMale:\n",
    "            os.replace(maleDir + \"/\" + file, maleDir + \"Training\" + \"/\" + file)\n",
    "        else:\n",
    "            os.replace(femaleDir + \"/\" + file, femaleDir + \"Training\" + \"/\" + file)\n",
    "\n",
    "    for file in listControl:\n",
    "        if isMale:\n",
    "            os.replace(maleDir + \"/\" + file, maleDir + \"Control\" + \"/\" + file)\n",
    "        else:\n",
    "            os.replace(femaleDir + \"/\" + file, femaleDir + \"Control\" + \"/\" + file)\n",
    "\n",
    "\n",
    "gen_file_dirs()\n",
    "\n",
    "replaceFilesByDirLists(validationFilesNamesMales, trainingFilesMalesNames, True)\n",
    "replaceFilesByDirLists(validationFilesNamesFemales, trainingFilesNamesFemales, False)\n",
    "\n",
    "\n"
   ],
   "id": "1eb65d3b22572156",
   "outputs": [],
   "execution_count": 13
  },
  {
   "metadata": {},
   "cell_type": "code",
   "outputs": [],
   "execution_count": null,
   "source": "",
   "id": "59b7aba7ecfdbf5a"
  }
 ],
 "metadata": {
  "kernelspec": {
   "display_name": "Python 3 (ipykernel)",
   "language": "python",
   "name": "python3"
  },
  "language_info": {
   "codemirror_mode": {
    "name": "ipython",
    "version": 3
   },
   "file_extension": ".py",
   "mimetype": "text/x-python",
   "name": "python",
   "nbconvert_exporter": "python",
   "pygments_lexer": "ipython3",
   "version": "3.11.0rc1"
  }
 },
 "nbformat": 4,
 "nbformat_minor": 5
}
